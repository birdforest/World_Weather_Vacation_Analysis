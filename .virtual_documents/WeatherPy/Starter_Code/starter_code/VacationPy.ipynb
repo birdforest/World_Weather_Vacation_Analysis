


# Dependencies and Setup
import hvplot.pandas
import pandas as pd
import requests

# Import API key
from api_keys import geoapify_key


# Load the CSV file created in Part 1 into a Pandas DataFrame
city_data_df = pd.read_csv("output_data/cities.csv")

# Display sample data
city_data_df.head()





# Kevin testing
city_data_df.head()


# %%capture --no-display

import geoviews as gv
import geoviews.feature as gf
from holoviews import opts
import cartopy.crs as crs

# humidity_dtype = city_data_df['Humidity'].dtype
# print("Humidity column data type:", humidity_dtype)
# Kevin assisted with the scaling factor

city_data_df['Scaled_Humidity'] = city_data_df['Humidity']**.65

# Configure the map plot
points = gv.Points(city_data_df, ["Lng", "Lat"],["Scaled_Humidity"], label="City")

# Display the map
plot = gf.ocean * gf.land * gf.coastline * points

plot.opts(opts.Points(color="Scaled_Humidity", size="Scaled_Humidity", cmap="Blues", width=800, height=500, xaxis=None, yaxis=None, show_grid=False, projection=crs.Mercator()))






# Narrow down cities that fit criteria and drop any results with null values
ideal_cities_df = city_data_df[
    (city_data_df["Max Temp"] > 291) &
    (city_data_df["Max Temp"] < 300) &
    (city_data_df["Wind Speed"] < 3) &
    (city_data_df["Cloudiness"] < 5)
]
# Drop any rows with null values
ideal_cities_df = ideal_cities_df.dropna()

# Display sample data
ideal_cities_df





# Use the Pandas copy function to create DataFrame called hotel_df to store the city, country, coordinates, and humidity
hotel_df = ideal_cities_df[["City", "Country", "Lat", "Lng", "Humidity"]].copy()

# Add an empty column, "Hotel Name," to the DataFrame so you can store the hotel found using the Geoapify API
hotel_df["Hotel Name"] = ""

# Display sample data
hotel_df





# Set parameters to search for a hotel
radius = 10000
params = {
    # "radius": radius,
    "categories": "accommodation.hotel",
    "api_key" : geoapify_key,
    "limit": 20
}

# Print a message to follow up the hotel search
print("Starting hotel search")

# Iterate through the hotel_df DataFrame
for index, row in hotel_df.iterrows():
    # get latitude, longitude from the DataFrame
    lat = row["Lat"]
    lon = row["Lng"]
    
    # Add filter and bias parameters with the current city's latitude and longitude to the params dictionary
    params["filter"] = f"circle:{lon},{lat},{radius}"
    params["bias"] = f"proximity:{lon},{lat}"
    
    # Set base URL
    # base_url = "https://api.geoapify.com/v2/places?PARAMS"
    base_url = "https://api.geoapify.com/v2/places"
    
    
    # Make and API request using the params dictionaty
    response = requests.get(base_url, params=params)
    
    # Convert the API response to JSON format
    name_address = response.json()
    
    # Grab the first hotel from the results and store the name in the hotel_df DataFrame
    try:
        hotel_df.loc[index, "Hotel Name"] = name_address["features"][0]["properties"]["name"]
    except (KeyError, IndexError):
        # If no hotel is found, set the hotel name as "No hotel found".
        hotel_df.loc[index, "Hotel Name"] = "No hotel found"
        
    # Log the search results
    print(f"{hotel_df.loc[index, 'City']} - nearest hotel: {hotel_df.loc[index, 'Hotel Name']}")

# Display sample data
hotel_df





%%capture --no-display

# Configure the map plot

map_plot = hotel_df.hvplot.points(
    'Lng',
    'Lat',
    geo = True,
    scale = 1,
    color = "City",
    tiles = "OSM",
    hover_cols = ['Hotel Name','Country']

)

# Display the map with hover information

map_plot


# points = gv.Points(hotel_df, ["Lng", "Lat"], ["Humidity", "City", "Country"], label="City")

# hover = points.clone(kdims=['Lng', 'Lat'], vdims=['Hotel Name'])

# plot = gf.ocean * gf.land * gf.coastline * points.opts(
#     tools=['hover'],
#     width=800,
#     height=500,
#     xaxis=None,
#     yaxis=None,
#     show_grid=False,
#     projection=crs.Mercator(),
#     size=10
# )

# plot.opts(opts.Points(size=10))

#plot



hotel_df



